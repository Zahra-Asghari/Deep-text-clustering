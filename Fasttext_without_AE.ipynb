{
  "cells": [
    {
      "cell_type": "code",
      "execution_count": null,
      "metadata": {
        "id": "c4b0hVWfrp9-"
      },
      "outputs": [],
      "source": [
        "import pandas as pd\n",
        "import numpy as np\n",
        "import re\n",
        "import persian"
      ]
    },
    {
      "cell_type": "code",
      "execution_count": null,
      "metadata": {
        "id": "o4AtBiu8rp-E"
      },
      "outputs": [],
      "source": [
        "df = pd.read_excel(r'pishnahdkamel.XLS',usecols=\"G\")"
      ]
    },
    {
      "cell_type": "code",
      "execution_count": null,
      "metadata": {
        "id": "VWIHqhWprp-F"
      },
      "outputs": [],
      "source": [
        "df = df[pd.notnull(df['sharhpishnahad'])]\n",
        "df = df[df.sharhpishnahad.duplicated()==False]\n",
        "df.reset_index(inplace = True)\n",
        "del df['index']"
      ]
    },
    {
      "cell_type": "code",
      "execution_count": null,
      "metadata": {
        "id": "18cnJTgArp-G"
      },
      "outputs": [],
      "source": [
        "stopwords = []\n",
        "file = open('stopwords.txt',encoding = 'utf-8').read()\n",
        "[stopwords.append(x) for x in file.split()]\n",
        "stopwords = set(stopwords)"
      ]
    },
    {
      "cell_type": "code",
      "execution_count": null,
      "metadata": {
        "id": "PPIEkLNGrp-H"
      },
      "outputs": [],
      "source": [
        "def removing_stopwords(text):\n",
        "    text =str(text)\n",
        "    filtered_tokens = [token for token in text.split() if token not in stopwords]\n",
        "    filtered_text = ' '.join(filtered_tokens)\n",
        "    return filtered_text"
      ]
    },
    {
      "cell_type": "code",
      "execution_count": null,
      "metadata": {
        "id": "nBjYIusbrp-I"
      },
      "outputs": [],
      "source": [
        "def convert_char(text):\n",
        "    text =str(text)\n",
        "    s = ''\n",
        "    for word in text:\n",
        "        s = s + persian.convert_ar_characters(word)\n",
        "    return s"
      ]
    },
    {
      "cell_type": "code",
      "execution_count": null,
      "metadata": {
        "id": "UmsNExAcrp-P"
      },
      "outputs": [],
      "source": [
        "def sent_to_word(data):\n",
        "    data = str(data)\n",
        "    words = []\n",
        "    for x in data.split():\n",
        "        words.append(x)\n",
        "    return words"
      ]
    },
    {
      "cell_type": "code",
      "execution_count": null,
      "metadata": {
        "id": "nG4ZyibNrp-R"
      },
      "outputs": [],
      "source": [
        "def sent_vectorizer(sent):\n",
        "    sent_vec =[]\n",
        "    numw = 0\n",
        "    for w in sent:\n",
        "        try:\n",
        "            if numw == 0:\n",
        "                sent_vec = ft.get_word_vector(w)\n",
        "            else:\n",
        "                sent_vec = np.add(sent_vec, ft.get_word_vector(w))\n",
        "            numw += 1\n",
        "        except:\n",
        "            pass\n",
        "    return np.asarray(sent_vec) / numw"
      ]
    },
    {
      "cell_type": "code",
      "execution_count": null,
      "metadata": {
        "id": "OJNAuiOYrp-S"
      },
      "outputs": [],
      "source": [
        "sent_words = []\n",
        "for i in df.sharhpishnahad.index:\n",
        "    temp = removing_stopwords(df.sharhpishnahad[i])\n",
        "    temp = convert_char(temp)\n",
        "    temp = removing_stopwords(temp)\n",
        "    temp = sent_to_word(temp)\n",
        "    sent_words.append(temp)"
      ]
    },
    {
      "cell_type": "code",
      "execution_count": null,
      "metadata": {
        "id": "88LOs1hbrp-W"
      },
      "outputs": [],
      "source": [
        "with open(\"input_file.txt\", \"w\",encoding = 'utf-8') as txt_file:\n",
        "    for line in sent_words:\n",
        "        txt_file.write(\" \".join(line) + \"\\n\")"
      ]
    },
    {
      "cell_type": "code",
      "execution_count": null,
      "metadata": {
        "id": "30MGTO90rp-X"
      },
      "outputs": [],
      "source": [
        "ft = fasttext.train_unsupervised('input_file.txt', model='skipgram', dim = 300)"
      ]
    },
    {
      "cell_type": "code",
      "execution_count": null,
      "metadata": {
        "id": "ynBre_xjrp-Y"
      },
      "outputs": [],
      "source": [
        "vec = []\n",
        "for sentence in sent_words:\n",
        "    vec.append(sent_vectorizer(sentence))"
      ]
    },
    {
      "cell_type": "code",
      "execution_count": null,
      "metadata": {
        "id": "1UqEaTwqrp-Z"
      },
      "outputs": [],
      "source": [
        "del_row_id = []\n",
        "del_row_value = []\n",
        "for i in range(len(vec)):\n",
        "    if len(vec[i]) == 0:\n",
        "        del_row_id.append(i)\n",
        "        tt = vec[i]\n",
        "        del_row_value.append(tt)"
      ]
    },
    {
      "cell_type": "code",
      "execution_count": null,
      "metadata": {
        "id": "679o6MEGrp-a"
      },
      "outputs": [],
      "source": [
        "df = df.drop(df.index [del_row_id])"
      ]
    },
    {
      "cell_type": "code",
      "execution_count": null,
      "metadata": {
        "id": "vh0bfHhdrp-a"
      },
      "outputs": [],
      "source": [
        "df.reset_index(drop = True, inplace = True)"
      ]
    },
    {
      "cell_type": "code",
      "execution_count": null,
      "metadata": {
        "id": "poNtP2lXrp-b"
      },
      "outputs": [],
      "source": [
        "new_vec = []\n",
        "for e in vec:\n",
        "    if e not in del_row_value:\n",
        "        new_vec.append(e)"
      ]
    },
    {
      "cell_type": "code",
      "execution_count": null,
      "metadata": {
        "id": "TDkHtKoMrp-b"
      },
      "outputs": [],
      "source": [
        "vec_array = np.vstack(new_vec)"
      ]
    },
    {
      "cell_type": "code",
      "execution_count": null,
      "metadata": {
        "id": "wYPJz6FBrp-c"
      },
      "outputs": [],
      "source": [
        "from sklearn.cluster import KMeans"
      ]
    },
    {
      "cell_type": "code",
      "execution_count": null,
      "metadata": {
        "id": "krLFH-0Xrp-c"
      },
      "outputs": [],
      "source": [
        "import matplotlib.pyplot as plt\n",
        "sse = {}\n",
        "for k in range(2, 10):\n",
        "    kmeans_s = KMeans(n_clusters=k, max_iter=100).fit(vec_array)\n",
        "    sse[k] = kmeans_s.inertia_\n",
        "plt.figure()\n",
        "plt.plot(list(sse.keys()), list(sse.values()))\n",
        "plt.xlabel(\"Number of cluster\")\n",
        "plt.ylabel(\"SSE\")\n",
        "plt.show()"
      ]
    },
    {
      "cell_type": "code",
      "execution_count": null,
      "metadata": {
        "id": "hsh9__26rp-d"
      },
      "outputs": [],
      "source": [
        "kmeans = KMeans(n_clusters = 3, n_init = 50, random_state=1)\n",
        "kmeans.fit(vec_array)"
      ]
    },
    {
      "cell_type": "code",
      "execution_count": null,
      "metadata": {
        "id": "b6YXWch3rp-d"
      },
      "outputs": [],
      "source": [
        "labels = kmeans.labels_"
      ]
    },
    {
      "cell_type": "code",
      "execution_count": null,
      "metadata": {
        "id": "z_BKinhMrp-e"
      },
      "outputs": [],
      "source": [
        "df.loc[:,'labels'] = kmeans.labels_"
      ]
    },
    {
      "cell_type": "code",
      "execution_count": null,
      "metadata": {
        "id": "0vXryFqArp-e"
      },
      "outputs": [],
      "source": [
        "df.labels.value_counts()"
      ]
    },
    {
      "cell_type": "code",
      "execution_count": null,
      "metadata": {
        "id": "F91eU-84rp-f"
      },
      "outputs": [],
      "source": [
        "from sklearn import metrics\n",
        "metrics.silhouette_score(vec_array, labels, metric='euclidean')"
      ]
    },
    {
      "cell_type": "code",
      "execution_count": null,
      "metadata": {
        "id": "k3JWjGNKrp-f"
      },
      "outputs": [],
      "source": [
        "df.to_excel('Barez_2_without_AE.xlsx', index=False)"
      ]
    }
  ],
  "metadata": {
    "kernelspec": {
      "display_name": "Python 3",
      "language": "python",
      "name": "python3"
    },
    "language_info": {
      "codemirror_mode": {
        "name": "ipython",
        "version": 3
      },
      "file_extension": ".py",
      "mimetype": "text/x-python",
      "name": "python",
      "nbconvert_exporter": "python",
      "pygments_lexer": "ipython3",
      "version": "3.8.5"
    },
    "colab": {
      "provenance": []
    }
  },
  "nbformat": 4,
  "nbformat_minor": 0
}