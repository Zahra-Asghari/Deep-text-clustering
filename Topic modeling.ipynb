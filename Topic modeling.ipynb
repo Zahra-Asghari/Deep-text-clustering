{
  "nbformat": 4,
  "nbformat_minor": 0,
  "metadata": {
    "colab": {
      "provenance": []
    },
    "kernelspec": {
      "name": "python3",
      "display_name": "Python 3"
    },
    "language_info": {
      "name": "python"
    }
  },
  "cells": [
    {
      "cell_type": "code",
      "execution_count": null,
      "metadata": {
        "id": "F6yB5A3uKLAY"
      },
      "outputs": [],
      "source": [
        "from sklearn.feature_extraction.text import TfidfVectorizer,TfidfTransformer,CountVectorizer\n",
        "from sklearn.decomposition import LatentDirichletAllocation\n",
        "from sklearn.cluster import KMeans\n",
        "\n",
        "no_topics = 10\n",
        "\n",
        "c = CountVectorizer()\n",
        "X_text_c ,probabilities = c.fit_transform(Df['cleaned_descpishnahad'])\n",
        "\n",
        "lda = LatentDirichletAllocation(learning_method = 'online', n_components=no_topics, random_state=0).fit(X_text_c)\n",
        "X_text_c_feature_names = c.get_feature_names()\n",
        "\n",
        "def display_topics(model, feature_names, no_top_words):\n",
        "    for topic_idx, topic in enumerate(model.components_):\n",
        "        print (\"Topic %d:\" % (topic_idx))\n",
        "        print (\" \".join([feature_names[i] for i in topic.argsort()[:-no_top_words - 1:-1]]))\n",
        "\n",
        "no_top_words = 10\n",
        "display_topics(lda, X_text_c_feature_names, no_top_words)\n",
        "\n",
        "c.visualize_distribution(probabilities[0])"
      ]
    }
  ]
}